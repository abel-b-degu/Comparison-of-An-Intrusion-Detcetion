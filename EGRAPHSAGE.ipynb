{
 "cells": [
  {
   "cell_type": "code",
   "execution_count": 1,
   "id": "11ad64b1",
   "metadata": {},
   "outputs": [],
   "source": [
    "import dgl.nn as dglnn\n",
    "from dgl import from_networkx\n",
    "import torch.nn as nn\n",
    "import torch as th\n",
    "import torch.nn.functional as F\n",
    "import dgl.function as fn\n",
    "import networkx as nx\n",
    "import pandas as pd\n",
    "import socket\n",
    "import struct\n",
    "import random\n",
    "from sklearn.preprocessing import LabelEncoder\n",
    "from sklearn.preprocessing import StandardScaler\n",
    "from sklearn.model_selection import train_test_split\n",
    "import category_encoders as ce\n",
    "from sklearn.decomposition import PCA\n",
    "import seaborn as sns\n",
    "import matplotlib.pyplot as plt\n",
    "import numpy as np\n",
    "from sklearn.metrics import classification_report, confusion_matrix, accuracy_score, precision_score, recall_score, f1_score, roc_curve, auc, matthews_corrcoef"
   ]
  },
  {
   "cell_type": "code",
   "execution_count": 19,
   "id": "f8838070",
   "metadata": {},
   "outputs": [
    {
     "data": {
      "text/plain": [
       "['Flow_ID',\n",
       " 'Src_IP',\n",
       " 'Src_Port',\n",
       " 'Dst_IP',\n",
       " 'Dst_Port',\n",
       " 'Protocol',\n",
       " 'Timestamp',\n",
       " 'Flow_Duration',\n",
       " 'Total_Fwd_Packet',\n",
       " 'Total_Bwd_packets',\n",
       " 'Total_Length_of_Fwd_Packet',\n",
       " 'Total_Length_of_Bwd_Packet',\n",
       " 'Fwd_Packet_Length_Max',\n",
       " 'Fwd_Packet_Length_Min',\n",
       " 'Fwd_Packet_Length_Mean',\n",
       " 'Fwd_Packet_Length_Std',\n",
       " 'Bwd_Packet_Length_Max',\n",
       " 'Bwd_Packet_Length_Min',\n",
       " 'Bwd_Packet_Length_Mean',\n",
       " 'Bwd_Packet_Length_Std',\n",
       " 'Flow_Byts/s',\n",
       " 'Flow_Pkts/s',\n",
       " 'Flow_IAT_Mean',\n",
       " 'Flow_IAT_Std',\n",
       " 'Flow_IAT_Max',\n",
       " 'Flow_IAT_Min',\n",
       " 'Fwd_IAT_Total',\n",
       " 'Fwd_IAT_Mean',\n",
       " 'Fwd_IAT_Std',\n",
       " 'Fwd_IAT_Max',\n",
       " 'Fwd_IAT_Min',\n",
       " 'Bwd_IAT_Total',\n",
       " 'Bwd_IAT_Mean',\n",
       " 'Bwd_IAT_Std',\n",
       " 'Bwd_IAT_Max',\n",
       " 'Bwd_IAT_Min',\n",
       " 'Fwd_PSH_Flags',\n",
       " 'Bwd_PSH_Flags',\n",
       " 'Fwd_URG_Flags',\n",
       " 'Bwd_URG_Flags',\n",
       " 'Fwd_Header_Length',\n",
       " 'Bwd_Header_Length',\n",
       " 'Fwd_Packets/s',\n",
       " 'Bwd_Packets/s',\n",
       " 'Packet_Length_Min',\n",
       " 'Packet_Length_Max',\n",
       " 'Packet_Length_Mean',\n",
       " 'Packet_Length_Std',\n",
       " 'Packet_Length_Variance',\n",
       " 'FIN_Flag_Count',\n",
       " 'SYN_Flag_Count',\n",
       " 'RST_Flag_Count',\n",
       " 'PSH_Flag_Count',\n",
       " 'ACK_Flag_Count',\n",
       " 'URG_Flag_Count',\n",
       " 'CWR_Flag_Count',\n",
       " 'ECE_Flag_Count',\n",
       " 'Down/Up_Ratio',\n",
       " 'Average_Packet_Size',\n",
       " 'Fwd_Segment_Size_Avg',\n",
       " 'Bwd_Segment_Size_Avg',\n",
       " 'Fwd_Bytes/Bulk_Avg',\n",
       " 'Fwd_Packet/Bulk_Avg',\n",
       " 'Fwd_Bulk_Rate_Avg',\n",
       " 'Bwd_Bytes/Bulk_Avg',\n",
       " 'Bwd_Packet/Bulk_Avg',\n",
       " 'Bwd_Bulk_Rate_Avg',\n",
       " 'Subflow_Fwd_Packets',\n",
       " 'Subflow_Fwd_Bytes',\n",
       " 'Subflow_Bwd_Packets',\n",
       " 'Subflow_Bwd_Bytes',\n",
       " 'FWD_Init_Win_Bytes',\n",
       " 'Bwd_Init_Win_Bytes',\n",
       " 'Fwd_Act_Data_Pkts',\n",
       " 'Fwd_Seg_Size_Min',\n",
       " 'Active_Mean',\n",
       " 'Active_Std',\n",
       " 'Active_Max',\n",
       " 'Active_Min',\n",
       " 'Idle_Mean',\n",
       " 'Idle_Std',\n",
       " 'Idle_Max',\n",
       " 'Idle_Min',\n",
       " 'Label',\n",
       " 'Connection_Type']"
      ]
     },
     "execution_count": 19,
     "metadata": {},
     "output_type": "execute_result"
    }
   ],
   "source": [
    "data = pd.read_csv('ACI-IoT-2023.csv', nrows=100000)\n",
    "list(data.columns.values)"
   ]
  },
  {
   "cell_type": "code",
   "execution_count": 20,
   "id": "7746c896",
   "metadata": {},
   "outputs": [],
   "source": [
    "data['Src_IP'] = data.Src_IP.apply(lambda x: socket.inet_ntoa(struct.pack('>I', random.randint(0xac100001, 0xac1f0001))))\n",
    "data['Src_IP'] = data.Src_IP.apply(str)\n",
    "data['Src_Port'] = data.Src_Port.apply(str)\n",
    "data['Dst_IP'] = data.Dst_IP.apply(str)\n",
    "data['Dst_Port'] = data.Dst_Port.apply(str)\n",
    "data['Src_IP'] = data['Src_IP'] + ':' + data['Src_Port']\n",
    "data['Dst_IP'] = data['Dst_IP'] + ':' + data['Dst_Port']\n",
    "data.drop(columns=['Src_Port','Dst_Port','Timestamp', 'Flow_ID', 'Flow_Byts/s', 'Flow_Pkts/s',\n",
    "                   'Connection_Type', ],inplace=True)\n",
    "le = LabelEncoder()\n",
    "le.fit_transform(data.Label.values)\n",
    "data['Label'] = le.transform(data['Label'])\n",
    "label = data.Label\n",
    "data.drop(columns=['Label'],inplace = True)\n",
    "scaler = StandardScaler()"
   ]
  },
  {
   "cell_type": "code",
   "execution_count": 21,
   "id": "53a8c2a0",
   "metadata": {},
   "outputs": [],
   "source": [
    "data =  pd.concat([data, label], axis=1)\n",
    "X_train, X_test, y_train, y_test = train_test_split(\n",
    "     data, label, test_size=0.3, random_state=123,stratify= label)\n",
    "encoder = ce.TargetEncoder(cols=['Fwd_PSH_Flags','Bwd_PSH_Flags','Protocol'])\n",
    "encoder.fit(X_train, y_train)\n",
    "X_train = encoder.transform(X_train)\n",
    "cols_to_norm = list(set(list(X_train.iloc[:, 2:].columns ))  - set(list(['Label'])) )\n",
    "X_train[cols_to_norm] = scaler.fit_transform(X_train[cols_to_norm])\n",
    "X_train['h'] = X_train[ cols_to_norm ].values.tolist()\n",
    "G = nx.from_pandas_edgelist(X_train, \"Src_IP\", \"Dst_IP\", ['h','Label'],create_using=nx.MultiGraph())\n",
    "G = G.to_directed()\n",
    "G = from_networkx(G,edge_attrs=['h','Label'] )\n",
    "G.ndata['h'] = th.ones(G.num_nodes(), G.edata['h'].shape[1])\n",
    "G.edata['train_mask'] = th.ones(len(G.edata['h']), dtype=th.bool)\n",
    "G.edata['train_mask']\n",
    "def compute_accuracy(pred, labels):\n",
    "    return (pred.argmax(1) == labels).float().mean().item()"
   ]
  },
  {
   "cell_type": "code",
   "execution_count": 22,
   "id": "f3500f2f",
   "metadata": {},
   "outputs": [],
   "source": [
    "class SAGELayer(nn.Module):\n",
    "    def __init__(self, ndim_in, edims, ndim_out, activation):\n",
    "        super(SAGELayer, self).__init__()\n",
    "        ### force to outut fix dimensions\n",
    "        self.W_msg = nn.Linear(ndim_in + edims, ndim_out)\n",
    "        ### apply weight\n",
    "        self.W_apply = nn.Linear(ndim_in + ndim_out, ndim_out)\n",
    "        self.activation = activation\n",
    "\n",
    "    def message_func(self, edges):\n",
    "        return {'m': self.W_msg(th.cat([edges.src['h'], edges.data['h']], 2))}\n",
    "\n",
    "    def forward(self, g_dgl, nfeats, efeats):\n",
    "        with g_dgl.local_scope():\n",
    "            g = g_dgl\n",
    "            g.ndata['h'] = nfeats\n",
    "            g.edata['h'] = efeats\n",
    "            # Eq4\n",
    "            g.update_all(self.message_func, fn.mean('m', 'h_neigh'))\n",
    "            # Eq5\n",
    "            g.ndata['h'] = F.relu(self.W_apply(th.cat([g.ndata['h'], g.ndata['h_neigh']], 2)))\n",
    "            return g.ndata['h']"
   ]
  },
  {
   "cell_type": "code",
   "execution_count": 23,
   "id": "7e2ffed2",
   "metadata": {},
   "outputs": [],
   "source": [
    "class SAGE(nn.Module):\n",
    "    def __init__(self, ndim_in, ndim_out, edim, activation, dropout):\n",
    "        super(SAGE, self).__init__()\n",
    "        self.layers = nn.ModuleList()\n",
    "        self.layers.append(SAGELayer(ndim_in, edim, 128, activation))\n",
    "        self.layers.append(SAGELayer(128, edim, ndim_out, activation))\n",
    "        self.dropout = nn.Dropout(p=dropout)\n",
    "\n",
    "    def forward(self, g, nfeats, efeats):\n",
    "        for i, layer in enumerate(self.layers):\n",
    "            if i != 0:\n",
    "                nfeats = self.dropout(nfeats)\n",
    "            nfeats = layer(g, nfeats, efeats)\n",
    "        return nfeats.sum(1)"
   ]
  },
  {
   "cell_type": "code",
   "execution_count": 24,
   "id": "31616a97",
   "metadata": {},
   "outputs": [],
   "source": [
    "class MLPPredictor(nn.Module):\n",
    "    def __init__(self, in_features, out_classes):\n",
    "        super().__init__()\n",
    "        self.W = nn.Linear(in_features * 2, out_classes)\n",
    "\n",
    "    def apply_edges(self, edges):\n",
    "        h_u = edges.src['h']\n",
    "        h_v = edges.dst['h']\n",
    "        score = self.W(th.cat([h_u, h_v], 1))\n",
    "        return {'score': score}\n",
    "\n",
    "    def forward(self, graph, h):\n",
    "        with graph.local_scope():\n",
    "            graph.ndata['h'] = h\n",
    "            graph.apply_edges(self.apply_edges)\n",
    "            return graph.edata['score']"
   ]
  },
  {
   "cell_type": "code",
   "execution_count": 25,
   "id": "5cd9a792",
   "metadata": {},
   "outputs": [],
   "source": [
    "G.ndata['h'] = th.reshape(G.ndata['h'], (G.ndata['h'].shape[0], 1,G.ndata['h'].shape[1]))\n",
    "G.edata['h'] = th.reshape(G.edata['h'], (G.edata['h'].shape[0], 1,G.edata['h'].shape[1]))"
   ]
  },
  {
   "cell_type": "code",
   "execution_count": 26,
   "id": "00dafabe",
   "metadata": {},
   "outputs": [],
   "source": [
    "class Model(nn.Module):\n",
    "    def __init__(self, ndim_in, ndim_out, edim, activation, dropout):\n",
    "        super().__init__()\n",
    "        self.gnn = SAGE(ndim_in, ndim_out, edim, activation, dropout)\n",
    "        self.pred = MLPPredictor(ndim_out, 2)\n",
    "    def forward(self, g, nfeats, efeats):\n",
    "        h = self.gnn(g, nfeats, efeats)\n",
    "        return self.pred(g, h)"
   ]
  },
  {
   "cell_type": "code",
   "execution_count": 27,
   "id": "916c8298",
   "metadata": {},
   "outputs": [],
   "source": [
    "from sklearn.utils import class_weight\n",
    "class_weights = class_weight.compute_sample_weight('balanced',\n",
    "                                                 np.unique(G.edata['Label'].cpu().numpy())\n",
    "\n",
    "                                                 )\n",
    "class_weights = th.FloatTensor(class_weights)\n",
    "criterion = nn.CrossEntropyLoss(weight=class_weights)"
   ]
  },
  {
   "cell_type": "code",
   "execution_count": 28,
   "id": "a736f8eb",
   "metadata": {},
   "outputs": [],
   "source": [
    "G.ndata['h'].device\n",
    "G.edata['h'].device\n",
    "\n",
    "node_features = G.ndata['h']\n",
    "edge_features = G.edata['h']\n",
    "\n",
    "edge_label = G.edata['Label']\n",
    "train_mask = G.edata['train_mask']\n",
    "\n",
    "model = Model(G.ndata['h'].shape[2], 128, G.ndata['h'].shape[2], F.relu, 0.2)\n",
    "opt = th.optim.Adam(model.parameters())"
   ]
  },
  {
   "cell_type": "code",
   "execution_count": 29,
   "id": "f8282729",
   "metadata": {},
   "outputs": [],
   "source": [
    "for epoch in range(1,50):\n",
    "    pred = model(G, node_features,edge_features)\n",
    "    loss = criterion(pred[train_mask] ,edge_label[train_mask])\n",
    "    opt.zero_grad()\n",
    "    loss.backward()\n",
    "    opt.step()\n",
    "    if epoch % 100 == 0:\n",
    "      print('Training acc:', compute_accuracy(pred[train_mask], edge_label[train_mask]))"
   ]
  },
  {
   "cell_type": "code",
   "execution_count": 30,
   "id": "71af12ee",
   "metadata": {},
   "outputs": [],
   "source": [
    "X_test = encoder.transform(X_test)\n",
    "X_test[cols_to_norm] = scaler.transform(X_test[cols_to_norm])\n",
    "X_test['h'] = X_test[ cols_to_norm ].values.tolist()\n",
    "\n",
    "G_test = nx.from_pandas_edgelist(X_test, \"Src_IP\", \"Dst_IP\", ['h','Label'],create_using=nx.MultiGraph())\n",
    "G_test = G_test.to_directed()\n",
    "G_test = from_networkx(G_test,edge_attrs=['h','Label'] )\n",
    "actual = G_test.edata.pop('Label')\n",
    "G_test.ndata['feature'] = th.ones(G_test.num_nodes(), G.ndata['h'].shape[2])\n",
    "\n",
    "G_test.ndata['feature'] = th.reshape(G_test.ndata['feature'], (G_test.ndata['feature'].shape[0], 1, G_test.ndata['feature'].shape[1]))\n",
    "G_test.edata['h'] = th.reshape(G_test.edata['h'], (G_test.edata['h'].shape[0], 1, G_test.edata['h'].shape[1]))\n",
    "G_test = G_test.to('cpu')"
   ]
  },
  {
   "cell_type": "code",
   "execution_count": 31,
   "id": "5f60a2e1",
   "metadata": {},
   "outputs": [],
   "source": [
    "import timeit\n",
    "start_time = timeit.default_timer()\n",
    "node_features_test = G_test.ndata['feature']\n",
    "edge_features_test = G_test.edata['h']\n",
    "test_pred = model(G_test, node_features_test, edge_features_test)\n",
    "elapsed = timeit.default_timer() - start_time\n",
    "\n",
    "\n",
    "test_pred = test_pred.argmax(1)\n",
    "\n",
    "test_pred = th.Tensor.cpu(test_pred).detach().numpy()\n",
    "actual = [\"Normal\" if i == 0 else \"Attack\" for i in actual]\n",
    "test_pred = [\"Normal\" if i == 0 else \"Attack\" for i in test_pred]"
   ]
  },
  {
   "cell_type": "code",
   "execution_count": 33,
   "id": "c11cec85",
   "metadata": {},
   "outputs": [
    {
     "name": "stdout",
     "output_type": "stream",
     "text": [
      "Precision: 0.9998167011933093\n",
      "Recall: 0.9998166666666667\n",
      "F1-score: 0.999816359504172\n",
      "Accuracy: 0.9998166666666667\n"
     ]
    },
    {
     "data": {
      "image/png": "[encoded data removed]",
      "text/plain": [
       "<Figure size 600x400 with 2 Axes>"
      ]
     },
     "metadata": {},
     "output_type": "display_data"
    }
   ],
   "source": [
    "from sklearn.metrics import classification_report,confusion_matrix,accuracy_score,precision_recall_fscore_support\n",
    "cnf_matrix = confusion_matrix(actual, test_pred)\n",
    "precision,recall,fscore,none= precision_recall_fscore_support(actual, test_pred, average='weighted')\n",
    "accuracy = accuracy_score(actual, test_pred)\n",
    "print('Precision: '+(str(precision)))\n",
    "print('Recall: '+(str(recall)))\n",
    "print('F1-score: '+(str(fscore)))\n",
    "print('Accuracy: '+(str(accuracy)))\n",
    "\n",
    "plt.figure(figsize=(6, 4))\n",
    "sns.heatmap(cnf_matrix, annot=True, fmt=\"d\", cmap=\"Blues\",\n",
    "            xticklabels=['Normal', 'Attack'], yticklabels=['Normal', 'Attack'])\n",
    "plt.xlabel(\"Predicted Labels\")\n",
    "plt.ylabel(\"True Labels\")\n",
    "plt.title(\"Confusion Matrix\")\n",
    "plt.show()"
   ]
  }
 ],
 "metadata": {
  "kernelspec": {
   "display_name": "Python 3",
   "language": "python",
   "name": "python3"
  },
  "language_info": {
   "codemirror_mode": {
    "name": "ipython",
    "version": 3
   },
   "file_extension": ".py",
   "mimetype": "text/x-python",
   "name": "python",
   "nbconvert_exporter": "python",
   "pygments_lexer": "ipython3",
   "version": "3.11.5"
  }
 },
 "nbformat": 4,
 "nbformat_minor": 5
}
