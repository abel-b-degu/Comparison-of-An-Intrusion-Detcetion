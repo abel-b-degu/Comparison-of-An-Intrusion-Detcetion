{
 "cells": [
  {
   "cell_type": "code",
   "execution_count": 227,
   "id": "0466c8f1",
   "metadata": {},
   "outputs": [],
   "source": [
    "import pandas as pd\n",
    "import numpy as np\n",
    "import os\n",
    "import warnings\n",
    "import time\n",
    "import re\n",
    "import matplotlib.pyplot as plt\n",
    "import seaborn as sns\n",
    "from sklearn.feature_selection import mutual_info_classif, SelectKBest, RFE\n",
    "from sklearn.preprocessing import StandardScaler, MinMaxScaler, LabelEncoder\n",
    "from sklearn.model_selection import train_test_split\n",
    "from sklearn.linear_model import LinearRegression\n",
    "from sklearn.metrics import classification_report, confusion_matrix, accuracy_score, precision_score, recall_score, f1_score, roc_curve, auc, matthews_corrcoef\n",
    "from keras.callbacks import EarlyStopping, ReduceLROnPlateau\n",
    "from keras.optimizers import Adam\n",
    "from keras.models import Sequential\n",
    "from keras.layers import Dense, Dropout, BatchNormalization\n",
    "from imblearn.over_sampling import SMOTE\n",
    "from sklearn.exceptions import UndefinedMetricWarning\n",
    "warnings.simplefilter(\"ignore\", category=UndefinedMetricWarning)"
   ]
  },
  {
   "cell_type": "code",
   "execution_count": 228,
   "id": "fe7be0dc",
   "metadata": {},
   "outputs": [
    {
     "name": "stdout",
     "output_type": "stream",
     "text": [
      "There are no null values\n"
     ]
    }
   ],
   "source": [
    "# Record the start time\n",
    "totalstart_time = time.time()\n",
    "#file_path = 'Project Code\\IoMT.csv'\n",
    "dataset = pd.read_csv('IoMT.csv')\n",
    "\n",
    "# Checking for null values\n",
    "if dataset.isnull().sum().sum() == 0:\n",
    "    print(\"There are no null values\")\n",
    "\n",
    "# Separate the features (X) and the target variable (y)\n",
    "X = dataset.iloc[:, :-1]\n",
    "y = dataset.iloc[:, -1]\n",
    "\n",
    "# Convert non-numeric columns to numeric (e.g., using Label Encoding)\n",
    "for column in X.select_dtypes(include=['object']).columns:\n",
    "    le = LabelEncoder()\n",
    "    X[column] = le.fit_transform(X[column].astype(str))\n",
    "\n",
    "# Convert target variable to numeric if necessary\n",
    "if y.dtype == 'object':\n",
    "    le = LabelEncoder()\n",
    "    y = le.fit_transform(y.astype(str))"
   ]
  },
  {
   "cell_type": "code",
   "execution_count": 229,
   "id": "395dd08c",
   "metadata": {},
   "outputs": [
    {
     "data": {
      "text/html": [
       "<div>\n",
       "<style scoped>\n",
       "    .dataframe tbody tr th:only-of-type {\n",
       "        vertical-align: middle;\n",
       "    }\n",
       "\n",
       "    .dataframe tbody tr th {\n",
       "        vertical-align: top;\n",
       "    }\n",
       "\n",
       "    .dataframe thead th {\n",
       "        text-align: right;\n",
       "    }\n",
       "</style>\n",
       "<table border=\"1\" class=\"dataframe\">\n",
       "  <thead>\n",
       "    <tr style=\"text-align: right;\">\n",
       "      <th></th>\n",
       "      <th>0</th>\n",
       "      <th>1</th>\n",
       "      <th>2</th>\n",
       "      <th>3</th>\n",
       "      <th>4</th>\n",
       "    </tr>\n",
       "  </thead>\n",
       "  <tbody>\n",
       "    <tr>\n",
       "      <th>Dir</th>\n",
       "      <td>-&gt;</td>\n",
       "      <td>-&gt;</td>\n",
       "      <td>-&gt;</td>\n",
       "      <td>-&gt;</td>\n",
       "      <td>-&gt;</td>\n",
       "    </tr>\n",
       "    <tr>\n",
       "      <th>Flgs</th>\n",
       "      <td>e</td>\n",
       "      <td>e</td>\n",
       "      <td>e</td>\n",
       "      <td>e</td>\n",
       "      <td>e</td>\n",
       "    </tr>\n",
       "    <tr>\n",
       "      <th>SrcAddr</th>\n",
       "      <td>10.0.1.172</td>\n",
       "      <td>10.0.1.172</td>\n",
       "      <td>10.0.1.172</td>\n",
       "      <td>10.0.1.172</td>\n",
       "      <td>10.0.1.172</td>\n",
       "    </tr>\n",
       "    <tr>\n",
       "      <th>DstAddr</th>\n",
       "      <td>10.0.1.150</td>\n",
       "      <td>10.0.1.150</td>\n",
       "      <td>10.0.1.150</td>\n",
       "      <td>10.0.1.150</td>\n",
       "      <td>10.0.1.150</td>\n",
       "    </tr>\n",
       "    <tr>\n",
       "      <th>Sport</th>\n",
       "      <td>58059</td>\n",
       "      <td>58062</td>\n",
       "      <td>58065</td>\n",
       "      <td>58067</td>\n",
       "      <td>58069</td>\n",
       "    </tr>\n",
       "    <tr>\n",
       "      <th>Dport</th>\n",
       "      <td>1111</td>\n",
       "      <td>1111</td>\n",
       "      <td>1111</td>\n",
       "      <td>1111</td>\n",
       "      <td>1111</td>\n",
       "    </tr>\n",
       "    <tr>\n",
       "      <th>SrcBytes</th>\n",
       "      <td>496</td>\n",
       "      <td>496</td>\n",
       "      <td>496</td>\n",
       "      <td>496</td>\n",
       "      <td>496</td>\n",
       "    </tr>\n",
       "    <tr>\n",
       "      <th>DstBytes</th>\n",
       "      <td>186</td>\n",
       "      <td>186</td>\n",
       "      <td>186</td>\n",
       "      <td>186</td>\n",
       "      <td>186</td>\n",
       "    </tr>\n",
       "    <tr>\n",
       "      <th>SrcLoad</th>\n",
       "      <td>276914.0</td>\n",
       "      <td>230984.0</td>\n",
       "      <td>218470.0</td>\n",
       "      <td>203376.0</td>\n",
       "      <td>235723.0</td>\n",
       "    </tr>\n",
       "    <tr>\n",
       "      <th>DstLoad</th>\n",
       "      <td>92305.0</td>\n",
       "      <td>76995.0</td>\n",
       "      <td>72823.0</td>\n",
       "      <td>67792.0</td>\n",
       "      <td>78574.0</td>\n",
       "    </tr>\n",
       "    <tr>\n",
       "      <th>SrcGap</th>\n",
       "      <td>0</td>\n",
       "      <td>0</td>\n",
       "      <td>0</td>\n",
       "      <td>0</td>\n",
       "      <td>0</td>\n",
       "    </tr>\n",
       "    <tr>\n",
       "      <th>DstGap</th>\n",
       "      <td>0</td>\n",
       "      <td>0</td>\n",
       "      <td>0</td>\n",
       "      <td>0</td>\n",
       "      <td>0</td>\n",
       "    </tr>\n",
       "    <tr>\n",
       "      <th>SIntPkt</th>\n",
       "      <td>3.582333</td>\n",
       "      <td>4.294667</td>\n",
       "      <td>4.540667</td>\n",
       "      <td>4.877667</td>\n",
       "      <td>4.208333</td>\n",
       "    </tr>\n",
       "    <tr>\n",
       "      <th>DIntPkt</th>\n",
       "      <td>1.9015</td>\n",
       "      <td>2.9015</td>\n",
       "      <td>3.2945</td>\n",
       "      <td>3.332</td>\n",
       "      <td>2.8635</td>\n",
       "    </tr>\n",
       "    <tr>\n",
       "      <th>SIntPktAct</th>\n",
       "      <td>0.0</td>\n",
       "      <td>0.0</td>\n",
       "      <td>0.0</td>\n",
       "      <td>0.0</td>\n",
       "      <td>0.0</td>\n",
       "    </tr>\n",
       "    <tr>\n",
       "      <th>DIntPktAct</th>\n",
       "      <td>0</td>\n",
       "      <td>0</td>\n",
       "      <td>0</td>\n",
       "      <td>0</td>\n",
       "      <td>0</td>\n",
       "    </tr>\n",
       "    <tr>\n",
       "      <th>SrcJitter</th>\n",
       "      <td>2.946239</td>\n",
       "      <td>3.091654</td>\n",
       "      <td>2.849841</td>\n",
       "      <td>2.452252</td>\n",
       "      <td>3.021835</td>\n",
       "    </tr>\n",
       "    <tr>\n",
       "      <th>DstJitter</th>\n",
       "      <td>1.6235</td>\n",
       "      <td>2.8625</td>\n",
       "      <td>3.1655</td>\n",
       "      <td>3.257</td>\n",
       "      <td>2.8225</td>\n",
       "    </tr>\n",
       "    <tr>\n",
       "      <th>sMaxPktSz</th>\n",
       "      <td>310</td>\n",
       "      <td>310</td>\n",
       "      <td>310</td>\n",
       "      <td>310</td>\n",
       "      <td>310</td>\n",
       "    </tr>\n",
       "    <tr>\n",
       "      <th>dMaxPktSz</th>\n",
       "      <td>66</td>\n",
       "      <td>66</td>\n",
       "      <td>66</td>\n",
       "      <td>66</td>\n",
       "      <td>66</td>\n",
       "    </tr>\n",
       "    <tr>\n",
       "      <th>sMinPktSz</th>\n",
       "      <td>60</td>\n",
       "      <td>60</td>\n",
       "      <td>60</td>\n",
       "      <td>60</td>\n",
       "      <td>60</td>\n",
       "    </tr>\n",
       "    <tr>\n",
       "      <th>dMinPktSz</th>\n",
       "      <td>60</td>\n",
       "      <td>60</td>\n",
       "      <td>60</td>\n",
       "      <td>60</td>\n",
       "      <td>60</td>\n",
       "    </tr>\n",
       "    <tr>\n",
       "      <th>Dur</th>\n",
       "      <td>0.010747</td>\n",
       "      <td>0.012884</td>\n",
       "      <td>0.013622</td>\n",
       "      <td>0.014633</td>\n",
       "      <td>0.012625</td>\n",
       "    </tr>\n",
       "    <tr>\n",
       "      <th>Trans</th>\n",
       "      <td>1</td>\n",
       "      <td>1</td>\n",
       "      <td>1</td>\n",
       "      <td>1</td>\n",
       "      <td>1</td>\n",
       "    </tr>\n",
       "    <tr>\n",
       "      <th>TotPkts</th>\n",
       "      <td>7</td>\n",
       "      <td>7</td>\n",
       "      <td>7</td>\n",
       "      <td>7</td>\n",
       "      <td>7</td>\n",
       "    </tr>\n",
       "    <tr>\n",
       "      <th>TotBytes</th>\n",
       "      <td>682</td>\n",
       "      <td>682</td>\n",
       "      <td>682</td>\n",
       "      <td>682</td>\n",
       "      <td>682</td>\n",
       "    </tr>\n",
       "    <tr>\n",
       "      <th>Load</th>\n",
       "      <td>369219.0</td>\n",
       "      <td>307979.0</td>\n",
       "      <td>291293.0</td>\n",
       "      <td>271168.0</td>\n",
       "      <td>314297.0</td>\n",
       "    </tr>\n",
       "    <tr>\n",
       "      <th>Loss</th>\n",
       "      <td>0</td>\n",
       "      <td>0</td>\n",
       "      <td>0</td>\n",
       "      <td>0</td>\n",
       "      <td>0</td>\n",
       "    </tr>\n",
       "    <tr>\n",
       "      <th>pLoss</th>\n",
       "      <td>0.0</td>\n",
       "      <td>0.0</td>\n",
       "      <td>0.0</td>\n",
       "      <td>0.0</td>\n",
       "      <td>0.0</td>\n",
       "    </tr>\n",
       "    <tr>\n",
       "      <th>pSrcLoss</th>\n",
       "      <td>0.0</td>\n",
       "      <td>0.0</td>\n",
       "      <td>0.0</td>\n",
       "      <td>0.0</td>\n",
       "      <td>0.0</td>\n",
       "    </tr>\n",
       "    <tr>\n",
       "      <th>pDstLoss</th>\n",
       "      <td>0.0</td>\n",
       "      <td>0.0</td>\n",
       "      <td>0.0</td>\n",
       "      <td>0.0</td>\n",
       "      <td>0.0</td>\n",
       "    </tr>\n",
       "    <tr>\n",
       "      <th>Rate</th>\n",
       "      <td>558.295</td>\n",
       "      <td>465.694</td>\n",
       "      <td>440.464</td>\n",
       "      <td>410.032</td>\n",
       "      <td>475.247</td>\n",
       "    </tr>\n",
       "    <tr>\n",
       "      <th>SrcMac</th>\n",
       "      <td>84:3a:4b:0f:5b:94</td>\n",
       "      <td>84:3a:4b:0f:5b:94</td>\n",
       "      <td>84:3a:4b:0f:5b:94</td>\n",
       "      <td>84:3a:4b:0f:5b:94</td>\n",
       "      <td>84:3a:4b:0f:5b:94</td>\n",
       "    </tr>\n",
       "    <tr>\n",
       "      <th>DstMac</th>\n",
       "      <td>b8:ca:3a:cf:0b:87</td>\n",
       "      <td>b8:ca:3a:cf:0b:87</td>\n",
       "      <td>b8:ca:3a:cf:0b:87</td>\n",
       "      <td>b8:ca:3a:cf:0b:87</td>\n",
       "      <td>b8:ca:3a:cf:0b:87</td>\n",
       "    </tr>\n",
       "    <tr>\n",
       "      <th>Packet_num</th>\n",
       "      <td>1</td>\n",
       "      <td>2</td>\n",
       "      <td>3</td>\n",
       "      <td>4</td>\n",
       "      <td>5</td>\n",
       "    </tr>\n",
       "    <tr>\n",
       "      <th>Temp</th>\n",
       "      <td>28.9</td>\n",
       "      <td>28.9</td>\n",
       "      <td>28.9</td>\n",
       "      <td>28.9</td>\n",
       "      <td>28.9</td>\n",
       "    </tr>\n",
       "    <tr>\n",
       "      <th>SpO2</th>\n",
       "      <td>0</td>\n",
       "      <td>0</td>\n",
       "      <td>89</td>\n",
       "      <td>89</td>\n",
       "      <td>89</td>\n",
       "    </tr>\n",
       "    <tr>\n",
       "      <th>Pulse_Rate</th>\n",
       "      <td>0</td>\n",
       "      <td>0</td>\n",
       "      <td>104</td>\n",
       "      <td>104</td>\n",
       "      <td>101</td>\n",
       "    </tr>\n",
       "    <tr>\n",
       "      <th>SYS</th>\n",
       "      <td>0</td>\n",
       "      <td>0</td>\n",
       "      <td>0</td>\n",
       "      <td>0</td>\n",
       "      <td>0</td>\n",
       "    </tr>\n",
       "    <tr>\n",
       "      <th>DIA</th>\n",
       "      <td>0</td>\n",
       "      <td>0</td>\n",
       "      <td>0</td>\n",
       "      <td>0</td>\n",
       "      <td>0</td>\n",
       "    </tr>\n",
       "    <tr>\n",
       "      <th>Heart_rate</th>\n",
       "      <td>0</td>\n",
       "      <td>78</td>\n",
       "      <td>78</td>\n",
       "      <td>79</td>\n",
       "      <td>79</td>\n",
       "    </tr>\n",
       "    <tr>\n",
       "      <th>Resp_Rate</th>\n",
       "      <td>0</td>\n",
       "      <td>17</td>\n",
       "      <td>17</td>\n",
       "      <td>17</td>\n",
       "      <td>17</td>\n",
       "    </tr>\n",
       "    <tr>\n",
       "      <th>ST</th>\n",
       "      <td>0.0</td>\n",
       "      <td>0.4</td>\n",
       "      <td>0.4</td>\n",
       "      <td>0.4</td>\n",
       "      <td>0.4</td>\n",
       "    </tr>\n",
       "    <tr>\n",
       "      <th>Label</th>\n",
       "      <td>0</td>\n",
       "      <td>0</td>\n",
       "      <td>0</td>\n",
       "      <td>0</td>\n",
       "      <td>0</td>\n",
       "    </tr>\n",
       "  </tbody>\n",
       "</table>\n",
       "</div>"
      ],
      "text/plain": [
       "                            0                  1                  2  \\\n",
       "Dir                        ->                 ->                 ->   \n",
       "Flgs                e                  e                  e           \n",
       "SrcAddr            10.0.1.172         10.0.1.172         10.0.1.172   \n",
       "DstAddr            10.0.1.150         10.0.1.150         10.0.1.150   \n",
       "Sport                   58059              58062              58065   \n",
       "Dport                    1111               1111               1111   \n",
       "SrcBytes                  496                496                496   \n",
       "DstBytes                  186                186                186   \n",
       "SrcLoad              276914.0           230984.0           218470.0   \n",
       "DstLoad               92305.0            76995.0            72823.0   \n",
       "SrcGap                      0                  0                  0   \n",
       "DstGap                      0                  0                  0   \n",
       "SIntPkt              3.582333           4.294667           4.540667   \n",
       "DIntPkt                1.9015             2.9015             3.2945   \n",
       "SIntPktAct                0.0                0.0                0.0   \n",
       "DIntPktAct                  0                  0                  0   \n",
       "SrcJitter            2.946239           3.091654           2.849841   \n",
       "DstJitter              1.6235             2.8625             3.1655   \n",
       "sMaxPktSz                 310                310                310   \n",
       "dMaxPktSz                  66                 66                 66   \n",
       "sMinPktSz                  60                 60                 60   \n",
       "dMinPktSz                  60                 60                 60   \n",
       "Dur                  0.010747           0.012884           0.013622   \n",
       "Trans                       1                  1                  1   \n",
       "TotPkts                     7                  7                  7   \n",
       "TotBytes                  682                682                682   \n",
       "Load                 369219.0           307979.0           291293.0   \n",
       "Loss                        0                  0                  0   \n",
       "pLoss                     0.0                0.0                0.0   \n",
       "pSrcLoss                  0.0                0.0                0.0   \n",
       "pDstLoss                  0.0                0.0                0.0   \n",
       "Rate                  558.295            465.694            440.464   \n",
       "SrcMac      84:3a:4b:0f:5b:94  84:3a:4b:0f:5b:94  84:3a:4b:0f:5b:94   \n",
       "DstMac      b8:ca:3a:cf:0b:87  b8:ca:3a:cf:0b:87  b8:ca:3a:cf:0b:87   \n",
       "Packet_num                  1                  2                  3   \n",
       "Temp                     28.9               28.9               28.9   \n",
       "SpO2                        0                  0                 89   \n",
       "Pulse_Rate                  0                  0                104   \n",
       "SYS                         0                  0                  0   \n",
       "DIA                         0                  0                  0   \n",
       "Heart_rate                  0                 78                 78   \n",
       "Resp_Rate                   0                 17                 17   \n",
       "ST                        0.0                0.4                0.4   \n",
       "Label                       0                  0                  0   \n",
       "\n",
       "                            3                  4  \n",
       "Dir                        ->                 ->  \n",
       "Flgs                e                  e          \n",
       "SrcAddr            10.0.1.172         10.0.1.172  \n",
       "DstAddr            10.0.1.150         10.0.1.150  \n",
       "Sport                   58067              58069  \n",
       "Dport                    1111               1111  \n",
       "SrcBytes                  496                496  \n",
       "DstBytes                  186                186  \n",
       "SrcLoad              203376.0           235723.0  \n",
       "DstLoad               67792.0            78574.0  \n",
       "SrcGap                      0                  0  \n",
       "DstGap                      0                  0  \n",
       "SIntPkt              4.877667           4.208333  \n",
       "DIntPkt                 3.332             2.8635  \n",
       "SIntPktAct                0.0                0.0  \n",
       "DIntPktAct                  0                  0  \n",
       "SrcJitter            2.452252           3.021835  \n",
       "DstJitter               3.257             2.8225  \n",
       "sMaxPktSz                 310                310  \n",
       "dMaxPktSz                  66                 66  \n",
       "sMinPktSz                  60                 60  \n",
       "dMinPktSz                  60                 60  \n",
       "Dur                  0.014633           0.012625  \n",
       "Trans                       1                  1  \n",
       "TotPkts                     7                  7  \n",
       "TotBytes                  682                682  \n",
       "Load                 271168.0           314297.0  \n",
       "Loss                        0                  0  \n",
       "pLoss                     0.0                0.0  \n",
       "pSrcLoss                  0.0                0.0  \n",
       "pDstLoss                  0.0                0.0  \n",
       "Rate                  410.032            475.247  \n",
       "SrcMac      84:3a:4b:0f:5b:94  84:3a:4b:0f:5b:94  \n",
       "DstMac      b8:ca:3a:cf:0b:87  b8:ca:3a:cf:0b:87  \n",
       "Packet_num                  4                  5  \n",
       "Temp                     28.9               28.9  \n",
       "SpO2                       89                 89  \n",
       "Pulse_Rate                104                101  \n",
       "SYS                         0                  0  \n",
       "DIA                         0                  0  \n",
       "Heart_rate                 79                 79  \n",
       "Resp_Rate                  17                 17  \n",
       "ST                        0.4                0.4  \n",
       "Label                       0                  0  "
      ]
     },
     "execution_count": 229,
     "metadata": {},
     "output_type": "execute_result"
    }
   ],
   "source": [
    "dataset.head().T"
   ]
  },
  {
   "cell_type": "code",
   "execution_count": 230,
   "id": "298b813d",
   "metadata": {},
   "outputs": [
    {
     "name": "stdout",
     "output_type": "stream",
     "text": [
      "Number of data points:  16318\n",
      "Number of features:  44\n"
     ]
    }
   ],
   "source": [
    "# DATASET PARTITION\n",
    "print('Number of data points: ',dataset.shape[0])\n",
    "print('Number of features: ', dataset.shape[1])"
   ]
  },
  {
   "cell_type": "code",
   "execution_count": 231,
   "id": "5a274cb9",
   "metadata": {},
   "outputs": [
    {
     "name": "stdout",
     "output_type": "stream",
     "text": [
      "Shape of dataset after removing NaN rows: (16318, 44)\n",
      "NaN values exist in the cleaned dataset: False\n"
     ]
    }
   ],
   "source": [
    "# Remove rows with any NaN values\n",
    "dataset_cleaned = dataset.dropna()\n",
    "\n",
    "# Check the shape after removing NaN rows\n",
    "print(\"Shape of dataset after removing NaN rows:\", dataset_cleaned.shape)\n",
    "\n",
    "# Verify if any NaN values remain\n",
    "nan_exists_after_dropping = dataset_cleaned.isna().any().any()\n",
    "print(f\"NaN values exist in the cleaned dataset: {nan_exists_after_dropping}\")"
   ]
  },
  {
   "cell_type": "code",
   "execution_count": 232,
   "id": "2b9b3812",
   "metadata": {},
   "outputs": [
    {
     "name": "stdout",
     "output_type": "stream",
     "text": [
      "Sample of 10 labels:\n"
     ]
    },
    {
     "data": {
      "image/png": "[encoded data removed]",
      "text/plain": [
       "<Figure size 600x400 with 1 Axes>"
      ]
     },
     "metadata": {},
     "output_type": "display_data"
    }
   ],
   "source": [
    "# Print a sample of 10 labels\n",
    "sample_labels = y\n",
    "print(\"Sample of 10 labels:\")\n",
    "#print(sample_labels.sample(10))\n",
    "# Plot label distribution\n",
    "plt.figure(figsize=(6, 4))\n",
    "colors = sns.color_palette('deep')\n",
    "pd.Series(y).map({0: 'Normal', 1: 'Attack'}).value_counts().plot(kind='bar', color=colors)\n",
    "plt.title('Sample of Labels')\n",
    "plt.xlabel('Label')\n",
    "plt.ylabel('Count')\n",
    "plt.show()"
   ]
  },
  {
   "cell_type": "code",
   "execution_count": 233,
   "id": "9e7c5029",
   "metadata": {},
   "outputs": [
    {
     "data": {
      "text/plain": [
       "0    14272\n",
       "1     2046\n",
       "Name: Label, dtype: int64"
      ]
     },
     "execution_count": 233,
     "metadata": {},
     "output_type": "execute_result"
    }
   ],
   "source": [
    "\n",
    "pd.Series(y).value_counts()"
   ]
  },
  {
   "cell_type": "code",
   "execution_count": 234,
   "id": "502e370e",
   "metadata": {},
   "outputs": [
    {
     "name": "stdout",
     "output_type": "stream",
     "text": [
      "Preprocessing Latency: 0.0310 seconds\n"
     ]
    }
   ],
   "source": [
    "# Record the start time for data preprocessing\n",
    "preprocessing_start_time = time.time()\n",
    "\n",
    "# Handle infinite or large values in X\n",
    "X[np.isinf(X)] = np.nan\n",
    "X[np.abs(X) > np.finfo(np.float64).max] = np.nan\n",
    "\n",
    "# Replace missing values with the mean of each feature\n",
    "mean_values = np.nanmean(X, axis=0)\n",
    "X = np.nan_to_num(X, nan=mean_values)\n",
    "\n",
    "# Handle remaining NaN values if any\n",
    "X[np.isnan(X)] = 0.0  # Replace NaN values with a specific value or use another imputation strategy\n",
    "\n",
    "# Scale the features\n",
    "sc_x = StandardScaler()\n",
    "X = sc_x.fit_transform(X)\n",
    "\n",
    "# Record the end time for data preprocessing\n",
    "preprocessing_end_time = time.time()\n",
    "\n",
    "# Calculate preprocessing latency\n",
    "preprocessing_latency = preprocessing_end_time - preprocessing_start_time\n",
    "print(f\"Preprocessing Latency: {preprocessing_latency:.4f} seconds\")"
   ]
  },
  {
   "cell_type": "code",
   "execution_count": 235,
   "id": "59166d9d",
   "metadata": {},
   "outputs": [
    {
     "name": "stdout",
     "output_type": "stream",
     "text": [
      "Original Feature Indices: [0, 1, 2, 3, 4, 5, 6, 7, 8, 9, 10, 11, 12, 13, 14, 15, 16, 17, 18, 19, 20, 21, 22, 23, 24, 25, 26, 27, 28, 29, 30, 31, 32, 33, 34, 35, 36, 37, 38, 39, 40, 41, 42]\n"
     ]
    }
   ],
   "source": [
    "# Store original feature indices\n",
    "original_feature_indices = np.arange(X.shape[1])\n",
    "# Print the original feature indices\n",
    "print(\"Original Feature Indices:\", list(original_feature_indices))"
   ]
  },
  {
   "cell_type": "code",
   "execution_count": 236,
   "id": "42edb625",
   "metadata": {},
   "outputs": [
    {
     "name": "stdout",
     "output_type": "stream",
     "text": [
      "[[  0.22214827  -0.05766847   0.81928062 ... -10.3238663  -16.81800174\n",
      "  -13.07638614]\n",
      " [  0.22214827  -0.05766847   0.24101703 ... -10.3238663  -16.81800174\n",
      "  -13.07638614]\n",
      " [  0.22214827  -0.05766847   0.08346444 ...   3.67026493 -16.81800174\n",
      "  -13.07638614]\n",
      " ...\n",
      " [  0.22214827  -0.05766847   0.96600572 ...  -0.50106265   0.60673265\n",
      "    0.63767264]\n",
      " [  0.22214827  -0.05766847   0.32676824 ...  -0.50106265   0.60673265\n",
      "    0.63767264]\n",
      " [  0.22214827  -0.05766847   0.84214425 ...  -0.50106265   0.60673265\n",
      "    0.63767264]]\n",
      "Selected Feature Indices using RFE: [1, 7, 8, 9, 14, 16, 17, 19, 22, 24, 26, 27, 28, 29, 30, 31, 32, 36, 37, 38, 39]\n",
      "RFE Latency: 0.8818 seconds\n"
     ]
    }
   ],
   "source": [
    "from sklearn.linear_model import LinearRegression\n",
    "from sklearn.feature_selection import RFE\n",
    "# Calculate the number of features for top 50%\n",
    "num_selected_features = int(X.shape[1] * 0.5)\n",
    "# Record the start time for RFE\n",
    "rfe_start_time = time.time()\n",
    "\n",
    "# Feature selection using RFE\n",
    "model = LinearRegression()\n",
    "rfe = RFE(model, n_features_to_select=num_selected_features)\n",
    "RFE_selected = rfe.fit_transform(X,y)\n",
    "# Record the end time for RFE\n",
    "rfe_end_time = time.time()\n",
    "\n",
    "# Print the selected feature indices\n",
    "print(RFE_selected)\n",
    "rfe_selected_indices = [i for i, selected in enumerate(rfe.support_) if selected]\n",
    "print(\"Selected Feature Indices using RFE:\", rfe_selected_indices)\n",
    "# Calculate RFE latency\n",
    "rfe_latency = rfe_end_time - rfe_start_time\n",
    "print(f\"RFE Latency: {rfe_latency:.4f} seconds\")"
   ]
  },
  {
   "cell_type": "code",
   "execution_count": 237,
   "id": "792b39ca",
   "metadata": {},
   "outputs": [
    {
     "name": "stdout",
     "output_type": "stream",
     "text": [
      "Selected Feature Indices: [ 1  4  8  9 12 13 16 17 22 25 26 29 31 32 34 35 36 37 39 41 42]\n",
      "Information Gain Scores: [2.59426688e-03 1.53276354e-01 0.00000000e+00 5.75999267e-03\n",
      " 5.10694604e-02 0.00000000e+00 4.82090823e-03 5.37957106e-03\n",
      " 1.36758972e-01 1.37226760e-01 9.38908908e-04 1.60958117e-04\n",
      " 1.37527186e-01 1.54442471e-01 0.00000000e+00 8.50170462e-04\n",
      " 3.60368334e-02 1.53318689e-01 0.00000000e+00 1.27367424e-03\n",
      " 0.00000000e+00 5.23104451e-04 1.38861710e-01 0.00000000e+00\n",
      " 3.55180419e-03 7.73470138e-03 1.36013969e-01 2.06817088e-03\n",
      " 0.00000000e+00 6.85363316e-03 1.58767268e-03 1.35894778e-01\n",
      " 3.79629032e-01 0.00000000e+00 3.55871186e-01 7.06693152e-03\n",
      " 9.50666745e-03 9.75727982e-03 1.03004036e-03 6.47182757e-03\n",
      " 3.62853035e-03 8.09225649e-03 6.06520002e-03]\n",
      "Super Optimized IG Latency: 0.7508 seconds\n"
     ]
    }
   ],
   "source": [
    "import time\n",
    "import numpy as np\n",
    "from sklearn.feature_selection import SelectPercentile, mutual_info_classif\n",
    "from joblib import Parallel, delayed\n",
    "\n",
    "X = np.asarray(X, dtype=np.float16)\n",
    "y = np.asarray(y, dtype=np.int8)  \n",
    "\n",
    "optimal_neighbors = max(2, min(5, X.shape[1] // 50))\n",
    "\n",
    "ig_start_time = time.time()\n",
    "\n",
    "\n",
    "info_gain = SelectPercentile(\n",
    "    score_func=lambda X, y: mutual_info_classif(X, y, n_neighbors=optimal_neighbors, n_jobs=-1),\n",
    "    percentile=50\n",
    ")\n",
    "\n",
    "selected_features_ig = info_gain.fit_transform(X, y)\n",
    "\n",
    "ig_end_time = time.time()\n",
    "\n",
    "\n",
    "ig_latency = ig_end_time - ig_start_time\n",
    "\n",
    "\n",
    "selected_feature_indices = info_gain.get_support(indices=True)\n",
    "info_gain_scores = info_gain.scores_\n",
    "\n",
    "print(f\"Selected Feature Indices: {selected_feature_indices}\")\n",
    "print(f\"Information Gain Scores: {info_gain_scores}\")\n",
    "print(f\"Super Optimized IG Latency: {ig_latency:.4f} seconds\")"
   ]
  },
  {
   "cell_type": "code",
   "execution_count": 238,
   "id": "3d3929cf",
   "metadata": {},
   "outputs": [
    {
     "name": "stdout",
     "output_type": "stream",
     "text": [
      "IG Selected Features: [1, 4, 8, 9, 12, 13, 16, 17, 22, 25, 26, 29, 31, 32, 34, 35, 36, 37, 39, 41, 42]\n",
      "RFE Selected Features: [1, 7, 8, 9, 14, 16, 17, 19, 22, 24, 26, 27, 28, 29, 30, 31, 32, 36, 37, 38, 39]\n",
      "Intersecting Indiced Features : [32, 1, 36, 37, 39, 8, 9, 16, 17, 22, 26, 29, 31]\n"
     ]
    }
   ],
   "source": [
    "# Find the intersection of selected features\n",
    "# Find intersecting features\n",
    "intersecting_features_Indices = set(selected_feature_indices) & set(rfe_selected_indices)\n",
    "\n",
    "# Print the results\n",
    "print(\"IG Selected Features:\",list (selected_feature_indices))\n",
    "print(\"RFE Selected Features:\", rfe_selected_indices)\n",
    "print(\"Intersecting Indiced Features :\", list(intersecting_features_Indices))"
   ]
  },
  {
   "cell_type": "code",
   "execution_count": 239,
   "id": "3d7a03a9",
   "metadata": {},
   "outputs": [
    {
     "name": "stdout",
     "output_type": "stream",
     "text": [
      "[[-3.787e-01  2.222e-01 -6.538e+01 ...  7.759e-01 -3.024e-02  6.011e-01]\n",
      " [-3.787e-01  2.222e-01 -6.538e+01 ...  2.256e-01 -3.024e-02  1.715e-01]\n",
      " [-3.787e-01  2.222e-01 -5.887e+00 ...  7.568e-02 -3.024e-02  5.447e-02]\n",
      " ...\n",
      " [-3.787e-01  2.222e-01  1.278e-01 ...  9.155e-01 -3.024e-02  7.100e-01]\n",
      " [-3.787e-01  2.222e-01  1.278e-01 ...  3.071e-01 -3.024e-02  2.352e-01]\n",
      " [-3.787e-01  2.222e-01  1.278e-01 ...  7.974e-01 -3.024e-02  6.182e-01]]\n"
     ]
    }
   ],
   "source": [
    "import numpy as np\n",
    "\n",
    "# Original Feature Indices # Your array\n",
    "original_indices = np.array(X)\n",
    "\n",
    "# Convert indices to integers\n",
    "intersecting_features_Indices = [int(idx) for idx in intersecting_features_Indices]\n",
    "\n",
    "# Extract features based on given indices\n",
    "intersecting_features_IG_RFE = original_indices[:, intersecting_features_Indices]\n",
    "\n",
    "# Output the selected features\n",
    "print(intersecting_features_IG_RFE)"
   ]
  },
  {
   "cell_type": "code",
   "execution_count": 240,
   "id": "0ac050b0",
   "metadata": {},
   "outputs": [
    {
     "name": "stdout",
     "output_type": "stream",
     "text": [
      "Union of Feature: [1, 4, 7, 8, 9, 12, 13, 14, 16, 17, 19, 22, 24, 25, 26, 27, 28, 29, 30, 31, 32, 34, 35, 36, 37, 38, 39, 41, 42]\n"
     ]
    }
   ],
   "source": [
    "import numpy as np\n",
    "\n",
    "# Calculate the union of the sets\n",
    "union_features = np.union1d(selected_feature_indices, rfe_selected_indices)\n",
    "\n",
    "# Print the union of feature indices\n",
    "print(\"Union of Feature:\", list(union_features))"
   ]
  },
  {
   "cell_type": "code",
   "execution_count": 241,
   "id": "5afb3e8f",
   "metadata": {},
   "outputs": [
    {
     "name": "stdout",
     "output_type": "stream",
     "text": [
      "[[  0.2222    0.1473   -0.05768 ... -13.08     -2.69     -2.48   ]\n",
      " [  0.2222    0.148    -0.05768 ... -13.08     -0.368     1.365  ]\n",
      " [  0.2222    0.1486   -0.05768 ... -13.08     -0.368     1.365  ]\n",
      " ...\n",
      " [  0.2222    1.389    -0.05768 ...   0.6377   -0.095     0.4038 ]\n",
      " [  0.2222   -1.0625   -0.05768 ...   0.6377   -0.095     0.4038 ]\n",
      " [  0.2222    1.399    -0.05768 ...   0.6377   -0.095     0.4038 ]]\n"
     ]
    }
   ],
   "source": [
    "import numpy as np\n",
    "\n",
    "# Original Feature Indices # Your array\n",
    "original_indices = np.array(X)\n",
    "\n",
    "# Convert indices to integers\n",
    "union_features = [int(idx) for idx in union_features]\n",
    "\n",
    "# Extract features based on given indices\n",
    "union_features_IG_RFE = original_indices[:, union_features]\n",
    "\n",
    "# Output the selected features\n",
    "print(union_features_IG_RFE)"
   ]
  },
  {
   "cell_type": "code",
   "execution_count": 242,
   "id": "311a29dc",
   "metadata": {},
   "outputs": [],
   "source": [
    "# Split the dataset into training and test sets\n",
    "X_train, X_test, y_train, y_test = train_test_split(union_features_IG_RFE, y, test_size=0.2, random_state=42)\n"
   ]
  },
  {
   "cell_type": "code",
   "execution_count": 243,
   "id": "64e117e4",
   "metadata": {},
   "outputs": [
    {
     "name": "stdout",
     "output_type": "stream",
     "text": [
      "\n",
      " Data X train \n",
      " 13054 \n",
      "\n",
      "\n",
      " Data y train \n",
      " [0 0 0 ... 0 1 0] \n",
      "\n",
      "\n",
      " Data X test \n",
      " 3264 \n",
      "\n",
      "\n",
      " Data y test \n",
      " [0 0 0 ... 0 0 0] \n",
      "\n",
      "Shape of feature X_train values: (13054, 29)\n",
      "Shape of feature y_train values: (13054,)\n",
      "Shape of feature X_test values: (3264, 29)\n",
      "Shape of feature y_test values: (3264,)\n"
     ]
    }
   ],
   "source": [
    "#view train datase\n",
    "print('\\n Data X train \\n', X_train.shape[0],'\\n')\n",
    "print('\\n Data y train \\n', y_train,'\\n')\n",
    "#view test dataset\n",
    "print('\\n Data X test \\n', X_test.shape[0],'\\n')\n",
    "print('\\n Data y test \\n', y_test,'\\n')\n",
    "# train set\n",
    "#print('train set: {} rows, {} columns'.format (X_train.shape[0], y_train.shape[0]),'\\n')\n",
    "#print('test set: {} rows, {} columns'.format (X_test.shape[0], y_test.shape[0]),'\\n')\n",
    "\n",
    "# Print shape of feature1 values\n",
    "print(\"Shape of feature X_train values:\", X_train.shape)\n",
    "print(\"Shape of feature y_train values:\",y_train.shape)\n",
    "print(\"Shape of feature X_test values:\", X_test.shape)\n",
    "print(\"Shape of feature y_test values:\",y_test.shape)"
   ]
  },
  {
   "cell_type": "code",
   "execution_count": 244,
   "id": "71792155",
   "metadata": {},
   "outputs": [
    {
     "name": "stdout",
     "output_type": "stream",
     "text": [
      "X_train_scaled shape: (13054, 29)\n",
      "X_test_scaled shape: (3264, 29)\n"
     ]
    }
   ],
   "source": [
    "# Scale the features\n",
    "scaler = MinMaxScaler()\n",
    "X_train_scaled = scaler.fit_transform(X_train)\n",
    "X_test_scaled = scaler.transform(X_test)\n",
    "print(\"X_train_scaled shape:\", X_train_scaled.shape)\n",
    "print(\"X_test_scaled shape:\", X_test_scaled.shape)"
   ]
  },
  {
   "cell_type": "code",
   "execution_count": 245,
   "id": "13c2dad3",
   "metadata": {},
   "outputs": [
    {
     "name": "stdout",
     "output_type": "stream",
     "text": [
      "Epoch 1/10\n"
     ]
    },
    {
     "name": "stderr",
     "output_type": "stream",
     "text": [
      "c:\\Users\\DSU\\AppData\\Local\\Programs\\Python\\Python311\\Lib\\site-packages\\keras\\src\\layers\\core\\dense.py:87: UserWarning: Do not pass an `input_shape`/`input_dim` argument to a layer. When using Sequential models, prefer using an `Input(shape)` object as the first layer in the model instead.\n",
      "  super().__init__(activity_regularizer=activity_regularizer, **kwargs)\n"
     ]
    },
    {
     "name": "stdout",
     "output_type": "stream",
     "text": [
      "\u001b[1m13/13\u001b[0m \u001b[32m━━━━━━━━━━━━━━━━━━━━\u001b[0m\u001b[37m\u001b[0m \u001b[1m1s\u001b[0m 13ms/step - loss: 0.1559 - val_loss: 0.1354 - learning_rate: 0.0010\n",
      "Epoch 2/10\n",
      "\u001b[1m13/13\u001b[0m \u001b[32m━━━━━━━━━━━━━━━━━━━━\u001b[0m\u001b[37m\u001b[0m \u001b[1m0s\u001b[0m 3ms/step - loss: 0.1277 - val_loss: 0.1015 - learning_rate: 0.0010\n",
      "Epoch 3/10\n",
      "\u001b[1m13/13\u001b[0m \u001b[32m━━━━━━━━━━━━━━━━━━━━\u001b[0m\u001b[37m\u001b[0m \u001b[1m0s\u001b[0m 3ms/step - loss: 0.0922 - val_loss: 0.0637 - learning_rate: 0.0010\n",
      "Epoch 4/10\n",
      "\u001b[1m13/13\u001b[0m \u001b[32m━━━━━━━━━━━━━━━━━━━━\u001b[0m\u001b[37m\u001b[0m \u001b[1m0s\u001b[0m 3ms/step - loss: 0.0555 - val_loss: 0.0343 - learning_rate: 0.0010\n",
      "Epoch 5/10\n",
      "\u001b[1m13/13\u001b[0m \u001b[32m━━━━━━━━━━━━━━━━━━━━\u001b[0m\u001b[37m\u001b[0m \u001b[1m0s\u001b[0m 3ms/step - loss: 0.0296 - val_loss: 0.0200 - learning_rate: 0.0010\n",
      "Epoch 6/10\n",
      "\u001b[1m13/13\u001b[0m \u001b[32m━━━━━━━━━━━━━━━━━━━━\u001b[0m\u001b[37m\u001b[0m \u001b[1m0s\u001b[0m 4ms/step - loss: 0.0185 - val_loss: 0.0156 - learning_rate: 0.0010\n",
      "Epoch 7/10\n",
      "\u001b[1m13/13\u001b[0m \u001b[32m━━━━━━━━━━━━━━━━━━━━\u001b[0m\u001b[37m\u001b[0m \u001b[1m0s\u001b[0m 3ms/step - loss: 0.0150 - val_loss: 0.0144 - learning_rate: 0.0010\n",
      "Epoch 8/10\n",
      "\u001b[1m13/13\u001b[0m \u001b[32m━━━━━━━━━━━━━━━━━━━━\u001b[0m\u001b[37m\u001b[0m \u001b[1m0s\u001b[0m 3ms/step - loss: 0.0140 - val_loss: 0.0138 - learning_rate: 0.0010\n",
      "Epoch 9/10\n",
      "\u001b[1m13/13\u001b[0m \u001b[32m━━━━━━━━━━━━━━━━━━━━\u001b[0m\u001b[37m\u001b[0m \u001b[1m0s\u001b[0m 3ms/step - loss: 0.0134 - val_loss: 0.0133 - learning_rate: 0.0010\n",
      "Epoch 10/10\n",
      "\u001b[1m13/13\u001b[0m \u001b[32m━━━━━━━━━━━━━━━━━━━━\u001b[0m\u001b[37m\u001b[0m \u001b[1m0s\u001b[0m 3ms/step - loss: 0.0130 - val_loss: 0.0129 - learning_rate: 0.0010\n",
      "Restoring model weights from the end of the best epoch: 10.\n",
      "Dimensionality Reduction Latency: 1.5481 seconds\n",
      "Training completed\n",
      "Final training loss: 0.012946853414177895\n",
      "Final validation loss: 0.012944962829351425\n"
     ]
    }
   ],
   "source": [
    "# Record the start time for dimensionality reduction\n",
    "dimensionality_reduction_start_time = time.time()\n",
    "\n",
    "# Define and train the autoencoder\n",
    "autoencoder = Sequential([\n",
    "    Dense(32, activation='relu', input_shape=(X_train_scaled.shape[1],)),\n",
    "    Dense(8, activation='relu'),\n",
    "    Dense(32, activation='relu'),\n",
    "\n",
    "    Dense(X_train_scaled.shape[1], activation='sigmoid')\n",
    "])\n",
    "\n",
    "# Compile the model\n",
    "autoencoder.compile(optimizer=Adam(learning_rate=0.001), loss='mse')\n",
    "# Callbacks\n",
    "early_stopping = EarlyStopping(monitor='val_loss', patience=3, verbose=1, restore_best_weights=True)\n",
    "reduce_lr = ReduceLROnPlateau(monitor='val_loss', factor=0.5, patience=2, min_lr=1e-5, verbose=1)\n",
    "\n",
    "\n",
    "# Train the model\n",
    "history = autoencoder.fit(\n",
    "    X_train_scaled, X_train_scaled,\n",
    "    epochs=10, batch_size=1024,\n",
    "    validation_data=(X_test_scaled, X_test_scaled),\n",
    "    callbacks=[early_stopping, reduce_lr]\n",
    ")\n",
    "\n",
    "# Record the end time for dimensionality reduction\n",
    "dimensionality_reduction_end_time = time.time()\n",
    "\n",
    "# Calculate dimensionality reduction latency\n",
    "dimensionality_reduction_latency = dimensionality_reduction_end_time - dimensionality_reduction_start_time\n",
    "print(f\"Dimensionality Reduction Latency: {dimensionality_reduction_latency:.4f} seconds\")\n",
    "\n",
    "# Print the loss history\n",
    "print(\"Training completed\")\n",
    "print(\"Final training loss:\", history.history['loss'][-1])\n",
    "print(\"Final validation loss:\", history.history['val_loss'][-1])"
   ]
  },
  {
   "cell_type": "code",
   "execution_count": 246,
   "id": "2e2a89a2",
   "metadata": {},
   "outputs": [
    {
     "data": {
      "image/png": "[encoded data removed]",
      "text/plain": [
       "<Figure size 640x480 with 1 Axes>"
      ]
     },
     "metadata": {},
     "output_type": "display_data"
    }
   ],
   "source": [
    "# Plot training and validation loss\n",
    "plt.plot(history.history['loss'], label='Training Loss')\n",
    "plt.plot(history.history['val_loss'], label='Validation Loss')\n",
    "plt.xlabel('Epochs')\n",
    "plt.ylabel('Loss')\n",
    "plt.legend()\n",
    "plt.show()"
   ]
  },
  {
   "cell_type": "code",
   "execution_count": 247,
   "id": "252926b3",
   "metadata": {},
   "outputs": [
    {
     "name": "stdout",
     "output_type": "stream",
     "text": [
      "\u001b[1m408/408\u001b[0m \u001b[32m━━━━━━━━━━━━━━━━━━━━\u001b[0m\u001b[37m\u001b[0m \u001b[1m0s\u001b[0m 610us/step\n",
      "\u001b[1m102/102\u001b[0m \u001b[32m━━━━━━━━━━━━━━━━━━━━\u001b[0m\u001b[37m\u001b[0m \u001b[1m0s\u001b[0m 555us/step\n",
      "Shape of encoded features for training set: (13054, 8)\n",
      "Shape of encoded features for test set: (3264, 8)\n"
     ]
    }
   ],
   "source": [
    "# Extract encoded features\n",
    "from tensorflow.keras.models import Model\n",
    "from tensorflow.keras import Input\n",
    "input_dim = X_train_scaled.shape[1]\n",
    "inputs = Input(shape=(input_dim,))\n",
    "x = inputs\n",
    "for layer in autoencoder.layers[:2]:\n",
    "    x = layer(x)\n",
    "encoder = Model(inputs, x)\n",
    "X_train_encoded = encoder.predict(X_train_scaled)\n",
    "X_test_encoded = encoder.predict(X_test_scaled)\n",
    "\n",
    "# Display the shape of the encoded features to verify\n",
    "print(\"Shape of encoded features for training set:\", X_train_encoded.shape)\n",
    "print(\"Shape of encoded features for test set:\", X_test_encoded.shape)"
   ]
  },
  {
   "cell_type": "code",
   "execution_count": 248,
   "id": "e246c3c5",
   "metadata": {},
   "outputs": [
    {
     "name": "stdout",
     "output_type": "stream",
     "text": [
      "\u001b[1m408/408\u001b[0m \u001b[32m━━━━━━━━━━━━━━━━━━━━\u001b[0m\u001b[37m\u001b[0m \u001b[1m0s\u001b[0m 595us/step\n",
      "\u001b[1m102/102\u001b[0m \u001b[32m━━━━━━━━━━━━━━━━━━━━\u001b[0m\u001b[37m\u001b[0m \u001b[1m0s\u001b[0m 624us/step\n",
      "Mean Squared Error (Train): 0.012771\n",
      "Mean Squared Error (Test): 0.012945\n"
     ]
    }
   ],
   "source": [
    "from sklearn.metrics import mean_squared_error\n",
    "\n",
    "\n",
    "X_train_reconstructed = autoencoder.predict(X_train_scaled)\n",
    "X_test_reconstructed = autoencoder.predict(X_test_scaled)\n",
    "\n",
    "mse_train = mean_squared_error(X_train_scaled, X_train_reconstructed)\n",
    "\n",
    "mse_test = mean_squared_error(X_test_scaled, X_test_reconstructed)\n",
    "\n",
    "print(f\"Mean Squared Error (Train): {mse_train:.6f}\")\n",
    "print(f\"Mean Squared Error (Test): {mse_test:.6f}\")"
   ]
  },
  {
   "cell_type": "code",
   "execution_count": 249,
   "id": "7caf6008",
   "metadata": {},
   "outputs": [],
   "source": [
    "from sklearn.preprocessing import LabelEncoder\n",
    "from keras.utils import to_categorical\n",
    "\n",
    "# Initialize the LabelEncoder\n",
    "label_encoder = LabelEncoder()\n",
    "\n",
    "# Encode the training labels\n",
    "y_train_encoded = label_encoder.fit_transform(y_train)\n",
    "y_test_encoded = label_encoder.transform(y_test)\n",
    "\n",
    "# One-hot encode the labels for multi-class classification\n",
    "y_train_one_hot = to_categorical(y_train_encoded)\n",
    "y_test_one_hot = to_categorical(y_test_encoded)"
   ]
  },
  {
   "cell_type": "code",
   "execution_count": 250,
   "id": "aa5b00a2",
   "metadata": {},
   "outputs": [
    {
     "data": {
      "text/plain": [
       "(13054, 2)"
      ]
     },
     "execution_count": 250,
     "metadata": {},
     "output_type": "execute_result"
    }
   ],
   "source": [
    "y_train_one_hot.shape "
   ]
  },
  {
   "cell_type": "code",
   "execution_count": 251,
   "id": "66a6e526",
   "metadata": {},
   "outputs": [
    {
     "name": "stdout",
     "output_type": "stream",
     "text": [
      "Epoch 1/10\n"
     ]
    },
    {
     "name": "stderr",
     "output_type": "stream",
     "text": [
      "c:\\Users\\DSU\\AppData\\Local\\Programs\\Python\\Python311\\Lib\\site-packages\\keras\\src\\layers\\core\\dense.py:87: UserWarning: Do not pass an `input_shape`/`input_dim` argument to a layer. When using Sequential models, prefer using an `Input(shape)` object as the first layer in the model instead.\n",
      "  super().__init__(activity_regularizer=activity_regularizer, **kwargs)\n"
     ]
    },
    {
     "name": "stdout",
     "output_type": "stream",
     "text": [
      "\u001b[1m51/51\u001b[0m \u001b[32m━━━━━━━━━━━━━━━━━━━━\u001b[0m\u001b[37m\u001b[0m \u001b[1m1s\u001b[0m 4ms/step - accuracy: 0.7573 - loss: 0.5224 - val_accuracy: 0.8725 - val_loss: 0.3798 - learning_rate: 0.0010\n",
      "Epoch 2/10\n",
      "\u001b[1m51/51\u001b[0m \u001b[32m━━━━━━━━━━━━━━━━━━━━\u001b[0m\u001b[37m\u001b[0m \u001b[1m0s\u001b[0m 1ms/step - accuracy: 0.8763 - loss: 0.3712 - val_accuracy: 0.8725 - val_loss: 0.3712 - learning_rate: 0.0010\n",
      "Epoch 3/10\n",
      "\u001b[1m51/51\u001b[0m \u001b[32m━━━━━━━━━━━━━━━━━━━━\u001b[0m\u001b[37m\u001b[0m \u001b[1m0s\u001b[0m 1ms/step - accuracy: 0.8714 - loss: 0.3702 - val_accuracy: 0.8725 - val_loss: 0.3519 - learning_rate: 0.0010\n",
      "Epoch 4/10\n",
      "\u001b[1m51/51\u001b[0m \u001b[32m━━━━━━━━━━━━━━━━━━━━\u001b[0m\u001b[37m\u001b[0m \u001b[1m0s\u001b[0m 1ms/step - accuracy: 0.8752 - loss: 0.3379 - val_accuracy: 0.8725 - val_loss: 0.2966 - learning_rate: 0.0010\n",
      "Epoch 5/10\n",
      "\u001b[1m51/51\u001b[0m \u001b[32m━━━━━━━━━━━━━━━━━━━━\u001b[0m\u001b[37m\u001b[0m \u001b[1m0s\u001b[0m 1ms/step - accuracy: 0.8729 - loss: 0.2755 - val_accuracy: 0.9020 - val_loss: 0.1845 - learning_rate: 0.0010\n",
      "Epoch 6/10\n",
      "\u001b[1m51/51\u001b[0m \u001b[32m━━━━━━━━━━━━━━━━━━━━\u001b[0m\u001b[37m\u001b[0m \u001b[1m0s\u001b[0m 1ms/step - accuracy: 0.9366 - loss: 0.1546 - val_accuracy: 0.9920 - val_loss: 0.0857 - learning_rate: 0.0010\n",
      "Epoch 7/10\n",
      "\u001b[1m51/51\u001b[0m \u001b[32m━━━━━━━━━━━━━━━━━━━━\u001b[0m\u001b[37m\u001b[0m \u001b[1m0s\u001b[0m 1ms/step - accuracy: 0.9919 - loss: 0.0673 - val_accuracy: 0.9948 - val_loss: 0.0423 - learning_rate: 0.0010\n",
      "Epoch 8/10\n",
      "\u001b[1m51/51\u001b[0m \u001b[32m━━━━━━━━━━━━━━━━━━━━\u001b[0m\u001b[37m\u001b[0m \u001b[1m0s\u001b[0m 1ms/step - accuracy: 0.9951 - loss: 0.0355 - val_accuracy: 0.9957 - val_loss: 0.0280 - learning_rate: 0.0010\n",
      "Epoch 9/10\n",
      "\u001b[1m51/51\u001b[0m \u001b[32m━━━━━━━━━━━━━━━━━━━━\u001b[0m\u001b[37m\u001b[0m \u001b[1m0s\u001b[0m 2ms/step - accuracy: 0.9982 - loss: 0.0203 - val_accuracy: 0.9957 - val_loss: 0.0219 - learning_rate: 0.0010\n",
      "Epoch 10/10\n",
      "\u001b[1m51/51\u001b[0m \u001b[32m━━━━━━━━━━━━━━━━━━━━\u001b[0m\u001b[37m\u001b[0m \u001b[1m0s\u001b[0m 1ms/step - accuracy: 0.9976 - loss: 0.0179 - val_accuracy: 0.9963 - val_loss: 0.0184 - learning_rate: 0.0010\n",
      "Restoring model weights from the end of the best epoch: 10.\n"
     ]
    }
   ],
   "source": [
    "from keras.models import Sequential\n",
    "from keras.layers import Dense, Dropout, BatchNormalization\n",
    "from keras.callbacks import EarlyStopping, ReduceLROnPlateau\n",
    "from keras.optimizers import Adam\n",
    "import time\n",
    "import numpy as np\n",
    "from sklearn.metrics import confusion_matrix, accuracy_score, precision_score, recall_score, f1_score\n",
    "\n",
    "# Define the DNN model\n",
    "DNN_model = Sequential()\n",
    "DNN_model.add(Dense(64, activation='relu', input_shape=(X_train_encoded.shape[1],)))\n",
    "DNN_model.add(Dense(32, activation='relu'))\n",
    "DNN_model.add(Dense(16, activation='relu'))\n",
    "#DNN_model.add(Dropout(0.5))  # Uncomment to add dropout if needed\n",
    "DNN_model.add(Dense(1, activation='sigmoid'))  # Single output neuron with sigmoid for binary classification\n",
    "\n",
    "# Compile the model\n",
    "DNN_model.compile(optimizer=Adam(learning_rate=0.001), loss='binary_crossentropy', metrics=['accuracy'])\n",
    "\n",
    "# Define callbacks\n",
    "early_stopping = EarlyStopping(monitor='val_loss', patience=10, verbose=1, restore_best_weights=True)\n",
    "reduce_lr = ReduceLROnPlateau(monitor='val_loss', factor=0.2, patience=5, min_lr=1e-5, verbose=1)\n",
    "\n",
    "# Record the start time\n",
    "start_time = time.time()\n",
    "\n",
    "# Train the model\n",
    "history = DNN_model.fit(\n",
    "    X_train_encoded, y_train_encoded,  # Assuming y_train_encoded is binary (0 or 1)\n",
    "    epochs=10, batch_size=256,\n",
    "    validation_data=(X_test_encoded, y_test_encoded),  # Assuming y_test_encoded is binary (0 or 1)\n",
    "    callbacks=[early_stopping, reduce_lr]\n",
    ")\n",
    "\n",
    "# Record the end time\n",
    "end_time = time.time()"
   ]
  },
  {
   "cell_type": "code",
   "execution_count": 252,
   "id": "2bc30907",
   "metadata": {},
   "outputs": [
    {
     "name": "stdout",
     "output_type": "stream",
     "text": [
      "Training completed\n",
      "Final training loss: 0.01590515859425068\n",
      "Final validation loss: 0.018384607508778572\n",
      "Final training accuracy: 0.9979316592216492\n",
      "Final validation accuracy: 0.9963235259056091\n"
     ]
    }
   ],
   "source": [
    "# Print the loss and accuracy history\n",
    "print(\"Training completed\")\n",
    "print(\"Final training loss:\", history.history['loss'][-1])\n",
    "print(\"Final validation loss:\", history.history['val_loss'][-1])\n",
    "print(\"Final training accuracy:\", history.history['accuracy'][-1])\n",
    "print(\"Final validation accuracy:\", history.history['val_accuracy'][-1])"
   ]
  },
  {
   "cell_type": "code",
   "execution_count": 253,
   "id": "7bc1ae33",
   "metadata": {},
   "outputs": [
    {
     "data": {
      "image/png": "[encoded data removed]",
      "text/plain": [
       "<Figure size 640x480 with 1 Axes>"
      ]
     },
     "metadata": {},
     "output_type": "display_data"
    }
   ],
   "source": [
    "# Plot the training and validation loss\n",
    "plt.plot(history.history['loss'], label='Training Loss')\n",
    "plt.plot(history.history['val_loss'], label='Validation Loss')\n",
    "plt.xlabel('Epochs')\n",
    "plt.ylabel('Loss')\n",
    "plt.legend()\n",
    "plt.show()"
   ]
  },
  {
   "cell_type": "code",
   "execution_count": 254,
   "id": "e48f382b",
   "metadata": {},
   "outputs": [
    {
     "name": "stdout",
     "output_type": "stream",
     "text": [
      "\u001b[1m102/102\u001b[0m \u001b[32m━━━━━━━━━━━━━━━━━━━━\u001b[0m\u001b[37m\u001b[0m \u001b[1m0s\u001b[0m 594us/step\n",
      "Classification Latency: 0.1537 seconds\n"
     ]
    }
   ],
   "source": [
    "# Record the start time for classification\n",
    "classification_start_time = time.time()\n",
    "\n",
    "# Make predictions using the trained DNN model\n",
    "y_pred_probs = DNN_model.predict(X_test_encoded)\n",
    "y_pred_classes = (y_pred_probs > 0.5).astype(int).flatten()\n",
    "\n",
    "# Record the end time for classification\n",
    "classification_end_time = time.time()\n",
    "\n",
    "# Calculate classification latency\n",
    "classification_latency = classification_end_time - classification_start_time\n",
    "print(f\"Classification Latency: {classification_latency:.4f} seconds\")"
   ]
  },
  {
   "cell_type": "code",
   "execution_count": 255,
   "id": "ff8ad930",
   "metadata": {},
   "outputs": [
    {
     "name": "stdout",
     "output_type": "stream",
     "text": [
      "0.031000375747680664 0.8818042278289795 0.7508378028869629 1.5480725765228271 0.15374088287353516\n"
     ]
    }
   ],
   "source": [
    "print(preprocessing_latency, rfe_latency, ig_latency, dimensionality_reduction_latency, classification_latency)"
   ]
  },
  {
   "cell_type": "code",
   "execution_count": 256,
   "id": "cd3372f4",
   "metadata": {},
   "outputs": [
    {
     "name": "stdout",
     "output_type": "stream",
     "text": [
      "Total Real-Time Latency: 3.3655 seconds\n"
     ]
    }
   ],
   "source": [
    "# Calculate total real-time latency\n",
    "total_real_time_latency = preprocessing_latency + rfe_latency + ig_latency + dimensionality_reduction_latency + classification_latency\n",
    "print(f\"Total Real-Time Latency: {total_real_time_latency:.4f} seconds\")"
   ]
  },
  {
   "cell_type": "code",
   "execution_count": 257,
   "id": "6073bf09",
   "metadata": {},
   "outputs": [],
   "source": [
    "# Compute the confusion matrix\n",
    "confmatrx = confusion_matrix(y_test_encoded, y_pred_classes)\n",
    "\n",
    "# Extract metrics from confusion matrix\n",
    "tp = confmatrx[1, 1]\n",
    "fn = confmatrx[1, 0]\n",
    "fp = confmatrx[0, 1]\n",
    "tn = confmatrx[0, 0]\n",
    "\n",
    "# Calculate metrics\n",
    "accuracy = accuracy_score(y_test_encoded, y_pred_classes) * 100\n",
    "precision = precision_score(y_test_encoded, y_pred_classes) * 100\n",
    "recall = recall_score(y_test_encoded, y_pred_classes) * 100\n",
    "f1 = f1_score(y_test_encoded, y_pred_classes) * 100\n",
    "mcc = matthews_corrcoef(y_test, y_pred_classes)"
   ]
  },
  {
   "cell_type": "code",
   "execution_count": 258,
   "id": "b9bcda80",
   "metadata": {},
   "outputs": [
    {
     "name": "stdout",
     "output_type": "stream",
     "text": [
      "Accuracy: 99.6324%\n",
      "Precision: 97.1963%\n",
      "Recall: 100.0000%\n",
      "F1 Score: 98.5782% \n",
      "\n",
      "False Negative Rate: 0.0000\n",
      "False Positive Rate: 0.0042\n",
      "Error Rate: 0.0037\n",
      "Detection Rate: 1.0000\n",
      "Attack Detection Rate: 0.1279\n",
      "Incorrect Classification Insurance: 2.8156\n",
      "False Alarm Rate: 0.0042 \n",
      "\n",
      "ROC AUC: 0.9989\n",
      "Matthew's Correlation Coefficient (MCC): 0.9838 \n",
      "\n",
      "Training time: 1.95 seconds\n",
      "Total Real-Time Latency: 3.3655 seconds\n"
     ]
    }
   ],
   "source": [
    "# Additional metrics\n",
    "fn_rate = fn / (tp + fn)\n",
    "fp_rate = fp / (tn + fp)\n",
    "error_rate = (fp + fn) / (tp + tn + fp + fn)\n",
    "dr = tp / (tp + fn)\n",
    "adr = tp / (tp + tn)\n",
    "\n",
    "total_instances = tp + fn\n",
    "cost_fp = precision / (tn / (tn + fp)) if (tn + fp) > 0 else 0\n",
    "cost_fn = dr / precision if precision > 0 else 0\n",
    "ici = (fp * cost_fp + fn * cost_fn) / total_instances if total_instances > 0 else 0\n",
    "far = fp / (fp + tn) if (fp + tn) > 0 else 0\n",
    "\n",
    "# Print evaluation results\n",
    "print(f\"Accuracy: {accuracy:.4f}%\")\n",
    "print(f\"Precision: {precision:.4f}%\")\n",
    "print(f\"Recall: {recall:.4f}%\")\n",
    "print(f\"F1 Score: {f1:.4f}%\",\"\\n\")\n",
    "print(f\"False Negative Rate: {fn_rate:.4f}\")\n",
    "print(f\"False Positive Rate: {fp_rate:.4f}\")\n",
    "print(f\"Error Rate: {error_rate:.4f}\")\n",
    "print(f\"Detection Rate: {dr:.4f}\")\n",
    "print(f\"Attack Detection Rate: {adr:.4f}\")\n",
    "print(f\"Incorrect Classification Insurance: {ici:.4f}\")\n",
    "print(f\"False Alarm Rate: {far:.4f}\",\"\\n\")\n",
    "\n",
    "# Compute ROC curve and AUC score\n",
    "fpr, tpr, thresholds = roc_curve(y_test_encoded, y_pred_probs)\n",
    "roc_auc = auc(fpr, tpr)\n",
    "print(f\"ROC AUC: {roc_auc:.4f}\")\n",
    "\n",
    "# Compute MCC (Matthew’s Correlation Coefficient)\n",
    "mcc = matthews_corrcoef(y_test_encoded, y_pred_classes)\n",
    "print(f\"Matthew's Correlation Coefficient (MCC): {mcc:.4f}\",\"\\n\")\n",
    "# Calculate and print the training time\n",
    "training_time = end_time - start_time\n",
    "print(f\"Training time: {training_time:.2f} seconds\")\n",
    "print(f\"Total Real-Time Latency: {total_real_time_latency:.4f} seconds\")"
   ]
  },
  {
   "cell_type": "code",
   "execution_count": 259,
   "id": "ed618cf5",
   "metadata": {},
   "outputs": [
    {
     "data": {
      "image/png": "[encoded data removed]",
      "text/plain": [
       "<Figure size 600x400 with 2 Axes>"
      ]
     },
     "metadata": {},
     "output_type": "display_data"
    },
    {
     "name": "stdout",
     "output_type": "stream",
     "text": [
      "              precision    recall  f1-score   support\n",
      "\n",
      "      Normal       1.00      1.00      1.00      2848\n",
      "      Attack       0.97      1.00      0.99       416\n",
      "\n",
      "    accuracy                           1.00      3264\n",
      "   macro avg       0.99      1.00      0.99      3264\n",
      "weighted avg       1.00      1.00      1.00      3264\n",
      "\n"
     ]
    },
    {
     "data": {
      "text/plain": [
       "array([[2836,   12],\n",
       "       [   0,  416]], dtype=int64)"
      ]
     },
     "execution_count": 259,
     "metadata": {},
     "output_type": "execute_result"
    }
   ],
   "source": [
    "# Plot confusion matrix\n",
    "plt.figure(figsize=(6, 4))\n",
    "sns.heatmap(confmatrx, annot=True, fmt=\"d\", cmap=\"Blues\",\n",
    "            xticklabels=['Normal', 'Attack'], yticklabels=['Normal', 'Attack'])\n",
    "plt.xlabel(\"Predicted Labels\")\n",
    "plt.ylabel(\"True Labels\")\n",
    "plt.title(\"Confusion Matrix\")\n",
    "plt.show()\n",
    "\n",
    "print(classification_report(y_test, y_pred_classes, target_names=['Normal', 'Attack']))\n",
    "confmatrx"
   ]
  },
  {
   "cell_type": "code",
   "execution_count": 263,
   "id": "19bcb6bc",
   "metadata": {},
   "outputs": [
    {
     "data": {
      "image/png": "[encoded data removed]",
      "text/plain": [
       "<Figure size 1200x400 with 1 Axes>"
      ]
     },
     "metadata": {},
     "output_type": "display_data"
    },
    {
     "data": {
      "image/png": "[encoded data removed]",
      "text/plain": [
       "<Figure size 1200x400 with 2 Axes>"
      ]
     },
     "metadata": {},
     "output_type": "display_data"
    }
   ],
   "source": [
    "# ROC Curve\n",
    "fpr, tpr, _ = roc_curve(y_test, y_pred_probs)\n",
    "plt.figure(figsize=(12, 4))\n",
    "\n",
    "plt.subplot(1, 3, 1)\n",
    "plt.plot(fpr, tpr, label=f\"ROC Curve (AUC={roc_auc:.3f})\")\n",
    "plt.plot([0,1],[0,1],'--',color='gray', alpha=0.7)\n",
    "plt.xlabel(\"False Positive Rate\")\n",
    "plt.ylabel(\"True Positive Rate\")\n",
    "plt.title(\"ROC Curve\")\n",
    "plt.legend()\n",
    "plt.grid(True, alpha=0.3)\n",
    "\n",
    "# Training History\n",
    "plt.figure(figsize=(12, 4))\n",
    "\n",
    "plt.subplot(1, 2, 1)\n",
    "plt.plot(history.history['accuracy'], label='Train Accuracy', alpha=0.8)\n",
    "plt.plot(history.history['val_accuracy'], label='Val Accuracy', alpha=0.8)\n",
    "plt.title('Model Accuracy')\n",
    "plt.xlabel('Epoch')\n",
    "plt.ylabel('Accuracy')\n",
    "plt.legend()\n",
    "plt.grid(True, alpha=0.3)\n",
    "\n",
    "plt.subplot(1, 2, 2)\n",
    "plt.plot(history.history['loss'], label='Train Loss', alpha=0.8)\n",
    "plt.plot(history.history['val_loss'], label='Val Loss', alpha=0.8)\n",
    "plt.title('Model Loss')\n",
    "plt.xlabel('Epoch')\n",
    "plt.ylabel('Loss')\n",
    "plt.legend()\n",
    "plt.grid(True, alpha=0.3)\n",
    "\n",
    "plt.tight_layout()\n",
    "plt.show()"
   ]
  }
 ],
 "metadata": {
  "kernelspec": {
   "display_name": "Python 3",
   "language": "python",
   "name": "python3"
  },
  "language_info": {
   "codemirror_mode": {
    "name": "ipython",
    "version": 3
   },
   "file_extension": ".py",
   "mimetype": "text/x-python",
   "name": "python",
   "nbconvert_exporter": "python",
   "pygments_lexer": "ipython3",
   "version": "3.11.5"
  }
 },
 "nbformat": 4,
 "nbformat_minor": 5
}
